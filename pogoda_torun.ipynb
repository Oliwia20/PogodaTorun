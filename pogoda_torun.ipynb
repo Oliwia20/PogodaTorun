{
 "cells": [
  {
   "cell_type": "code",
   "execution_count": 5,
   "id": "7ccabf54",
   "metadata": {},
   "outputs": [],
   "source": [
    "import numpy as np\n",
    "import matplotlib.pyplot as plt\n",
    "import pandas as pd\n",
    "import warnings\n",
    "warnings.filterwarnings(\"ignore\")"
   ]
  },
  {
   "cell_type": "code",
   "execution_count": 6,
   "id": "aba32376",
   "metadata": {},
   "outputs": [
    {
     "data": {
      "text/plain": [
       "<Figure size 720x504 with 0 Axes>"
      ]
     },
     "metadata": {},
     "output_type": "display_data"
    }
   ],
   "source": [
    "#Zaimportowanie danych jako DataFrame\n",
    "df = pd.read_csv(\"./meteo.csv\")\n",
    "\n",
    "\n",
    "#Tablica w ktorej beda dataFrame'y z kazdego miesiaca\n",
    "dataFrames = []\n",
    "#Tablica miesiecy do podpisania wykresow\n",
    "months = ['Styczeń','Luty','Marzec','Kwiecień','Maj','Czerwiec','Lipiec','Sierpień','Wrzesień','Październik','Listopad','Grudzień']\n",
    "\n",
    "for i in range(0,12):\n",
    "    #Wyróżnienie tylko Toruńskiej stacji pogodowej w danym miesiącu\n",
    "    dataFrames.append(df[(df[\"Nazwa stacji\"]==\"TORUŃ\") & (df[\"Miesiąc\"] == i+1)])\n",
    "    #Wyznaczenie kolumny z datą jako głównego indeksu\n",
    "    dataFrames[i] = dataFrames[i].set_index(dataFrames[i].date)\n",
    "    #Wyciągniecie sredniej temp w kazdym roku\n",
    "    dataFrames[i] = dataFrames[i].groupby(by=dataFrames[i][\"Rok\"]).mean()\n",
    "    #Wyrysowanie wykresow\n",
    "    dataFrames[i][\"Maksymalna temperatura dobowa\"]\\\n",
    "        .plot(xticks=dataFrames[i].index,fontsize=10,rot=90,title=months[i],xlabel=\"ROK\",ylabel=\"TEMPERATURA\",figsize=(10,7),label=\"Max\")\\\n",
    "        .legend(loc='upper right')\n",
    "    dataFrames[i][\"Średnia temperatura dobowa\"]\\\n",
    "        .plot(xticks=dataFrames[i].index,fontsize=10,rot=90,title=months[i],xlabel=\"ROK\",ylabel=\"TEMPERATURA\",figsize=(10,7), label=\"Avg\")\\\n",
    "        .legend(loc='upper right')\n",
    "    dataFrames[i][\"Minimalna temperatura dobowa\"]\\\n",
    "        .plot(xticks=dataFrames[i].index,fontsize=10,rot=90,title=months[i],xlabel=\"ROK\",ylabel=\"TEMPERATURA\",figsize=(10,7), label=\"Min\")\\\n",
    "        .legend(loc='upper right')\n",
    "    #Zapisanie figur w plikach png\n",
    "    plt.savefig(\"Miesiac\" + str(i+1) + \".png\")\n",
    "    #Wyczyszczenie po kazdym wyrysowaniu figury na dany miesiac zeby dane nie zbieraly sie tylko na 1 rysunku\n",
    "    plt.clf()"
   ]
  },
  {
   "cell_type": "code",
   "execution_count": null,
   "id": "279ba460",
   "metadata": {},
   "outputs": [],
   "source": []
  }
 ],
 "metadata": {
  "kernelspec": {
   "display_name": "Python 3 (ipykernel)",
   "language": "python",
   "name": "python3"
  },
  "language_info": {
   "codemirror_mode": {
    "name": "ipython",
    "version": 3
   },
   "file_extension": ".py",
   "mimetype": "text/x-python",
   "name": "python",
   "nbconvert_exporter": "python",
   "pygments_lexer": "ipython3",
   "version": "3.10.4"
  }
 },
 "nbformat": 4,
 "nbformat_minor": 5
}
