{
 "cells": [
  {
   "cell_type": "code",
   "execution_count": 2,
   "id": "bc610f8f",
   "metadata": {},
   "outputs": [
    {
     "name": "stdout",
     "output_type": "stream",
     "text": [
      "Requirement already satisfied: neuralprophet in c:\\users\\oliwia\\appdata\\local\\programs\\python\\python310\\lib\\site-packages (0.3.2)\n",
      "Requirement already satisfied: dataclasses>=0.6 in c:\\users\\oliwia\\appdata\\local\\programs\\python\\python310\\lib\\site-packages (from neuralprophet) (0.6)\n",
      "Requirement already satisfied: convertdate>=2.1.2 in c:\\users\\oliwia\\appdata\\local\\programs\\python\\python310\\lib\\site-packages (from neuralprophet) (2.4.0)\n",
      "Requirement already satisfied: numpy>=1.15.4 in c:\\users\\oliwia\\appdata\\local\\programs\\python\\python310\\lib\\site-packages (from neuralprophet) (1.22.3)\n",
      "Requirement already satisfied: torch-lr-finder>=0.2.1 in c:\\users\\oliwia\\appdata\\local\\programs\\python\\python310\\lib\\site-packages (from neuralprophet) (0.2.1)\n",
      "Requirement already satisfied: matplotlib>=2.0.0 in c:\\users\\oliwia\\appdata\\local\\programs\\python\\python310\\lib\\site-packages (from neuralprophet) (3.5.1)\n",
      "Requirement already satisfied: LunarCalendar>=0.0.9 in c:\\users\\oliwia\\appdata\\local\\programs\\python\\python310\\lib\\site-packages (from neuralprophet) (0.0.9)\n",
      "Requirement already satisfied: torch>=1.4.0 in c:\\users\\oliwia\\appdata\\local\\programs\\python\\python310\\lib\\site-packages (from neuralprophet) (1.12.0)\n",
      "Requirement already satisfied: pandas>=1.0.4 in c:\\users\\oliwia\\appdata\\local\\programs\\python\\python310\\lib\\site-packages (from neuralprophet) (1.4.3)\n",
      "Requirement already satisfied: python-dateutil>=2.8.0 in c:\\users\\oliwia\\appdata\\local\\programs\\python\\python310\\lib\\site-packages (from neuralprophet) (2.8.2)\n",
      "Requirement already satisfied: ipywidgets>=7.5.1 in c:\\users\\oliwia\\appdata\\local\\programs\\python\\python310\\lib\\site-packages (from neuralprophet) (7.7.1)\n",
      "Requirement already satisfied: tqdm>=4.50.2 in c:\\users\\oliwia\\appdata\\local\\programs\\python\\python310\\lib\\site-packages (from neuralprophet) (4.64.0)\n",
      "Requirement already satisfied: holidays>=0.11.3.1 in c:\\users\\oliwia\\appdata\\local\\programs\\python\\python310\\lib\\site-packages (from neuralprophet) (0.14.2)\n",
      "Requirement already satisfied: pymeeus<=1,>=0.3.13 in c:\\users\\oliwia\\appdata\\local\\programs\\python\\python310\\lib\\site-packages (from convertdate>=2.1.2->neuralprophet) (0.5.11)\n",
      "Requirement already satisfied: hijri-converter in c:\\users\\oliwia\\appdata\\local\\programs\\python\\python310\\lib\\site-packages (from holidays>=0.11.3.1->neuralprophet) (2.2.4)\n",
      "Requirement already satisfied: korean-lunar-calendar in c:\\users\\oliwia\\appdata\\local\\programs\\python\\python310\\lib\\site-packages (from holidays>=0.11.3.1->neuralprophet) (0.2.1)\n",
      "Requirement already satisfied: traitlets>=4.3.1 in c:\\users\\oliwia\\appdata\\local\\programs\\python\\python310\\lib\\site-packages (from ipywidgets>=7.5.1->neuralprophet) (5.3.0)\n",
      "Requirement already satisfied: ipykernel>=4.5.1 in c:\\users\\oliwia\\appdata\\local\\programs\\python\\python310\\lib\\site-packages (from ipywidgets>=7.5.1->neuralprophet) (6.15.1)\n",
      "Requirement already satisfied: jupyterlab-widgets>=1.0.0 in c:\\users\\oliwia\\appdata\\local\\programs\\python\\python310\\lib\\site-packages (from ipywidgets>=7.5.1->neuralprophet) (1.1.1)\n",
      "Requirement already satisfied: ipython>=4.0.0 in c:\\users\\oliwia\\appdata\\local\\programs\\python\\python310\\lib\\site-packages (from ipywidgets>=7.5.1->neuralprophet) (8.4.0)\n",
      "Requirement already satisfied: ipython-genutils~=0.2.0 in c:\\users\\oliwia\\appdata\\local\\programs\\python\\python310\\lib\\site-packages (from ipywidgets>=7.5.1->neuralprophet) (0.2.0)\n",
      "Requirement already satisfied: widgetsnbextension~=3.6.0 in c:\\users\\oliwia\\appdata\\local\\programs\\python\\python310\\lib\\site-packages (from ipywidgets>=7.5.1->neuralprophet) (3.6.1)\n",
      "Requirement already satisfied: ephem>=3.7.5.3 in c:\\users\\oliwia\\appdata\\local\\programs\\python\\python310\\lib\\site-packages (from LunarCalendar>=0.0.9->neuralprophet) (4.1.3)\n",
      "Requirement already satisfied: pytz in c:\\users\\oliwia\\appdata\\local\\programs\\python\\python310\\lib\\site-packages (from LunarCalendar>=0.0.9->neuralprophet) (2022.1)\n",
      "Requirement already satisfied: pyparsing>=2.2.1 in c:\\users\\oliwia\\appdata\\local\\programs\\python\\python310\\lib\\site-packages (from matplotlib>=2.0.0->neuralprophet) (3.0.8)\n",
      "Requirement already satisfied: cycler>=0.10 in c:\\users\\oliwia\\appdata\\local\\programs\\python\\python310\\lib\\site-packages (from matplotlib>=2.0.0->neuralprophet) (0.11.0)\n",
      "Requirement already satisfied: packaging>=20.0 in c:\\users\\oliwia\\appdata\\local\\programs\\python\\python310\\lib\\site-packages (from matplotlib>=2.0.0->neuralprophet) (21.3)\n",
      "Requirement already satisfied: kiwisolver>=1.0.1 in c:\\users\\oliwia\\appdata\\local\\programs\\python\\python310\\lib\\site-packages (from matplotlib>=2.0.0->neuralprophet) (1.4.2)\n",
      "Requirement already satisfied: fonttools>=4.22.0 in c:\\users\\oliwia\\appdata\\local\\programs\\python\\python310\\lib\\site-packages (from matplotlib>=2.0.0->neuralprophet) (4.32.0)\n",
      "Requirement already satisfied: pillow>=6.2.0 in c:\\users\\oliwia\\appdata\\local\\programs\\python\\python310\\lib\\site-packages (from matplotlib>=2.0.0->neuralprophet) (9.1.0)\n",
      "Requirement already satisfied: six>=1.5 in c:\\users\\oliwia\\appdata\\local\\programs\\python\\python310\\lib\\site-packages (from python-dateutil>=2.8.0->neuralprophet) (1.16.0)\n",
      "Requirement already satisfied: typing-extensions in c:\\users\\oliwia\\appdata\\local\\programs\\python\\python310\\lib\\site-packages (from torch>=1.4.0->neuralprophet) (4.1.1)\n",
      "Requirement already satisfied: colorama in c:\\users\\oliwia\\appdata\\local\\programs\\python\\python310\\lib\\site-packages (from tqdm>=4.50.2->neuralprophet) (0.4.5)\n",
      "Requirement already satisfied: pyzmq>=17 in c:\\users\\oliwia\\appdata\\local\\programs\\python\\python310\\lib\\site-packages (from ipykernel>=4.5.1->ipywidgets>=7.5.1->neuralprophet) (23.2.0)\n",
      "Requirement already satisfied: nest-asyncio in c:\\users\\oliwia\\appdata\\local\\programs\\python\\python310\\lib\\site-packages (from ipykernel>=4.5.1->ipywidgets>=7.5.1->neuralprophet) (1.5.5)\n",
      "Requirement already satisfied: tornado>=6.1 in c:\\users\\oliwia\\appdata\\local\\programs\\python\\python310\\lib\\site-packages (from ipykernel>=4.5.1->ipywidgets>=7.5.1->neuralprophet) (6.2)\n",
      "Requirement already satisfied: jupyter-client>=6.1.12 in c:\\users\\oliwia\\appdata\\local\\programs\\python\\python310\\lib\\site-packages (from ipykernel>=4.5.1->ipywidgets>=7.5.1->neuralprophet) (7.3.4)\n",
      "Requirement already satisfied: debugpy>=1.0 in c:\\users\\oliwia\\appdata\\local\\programs\\python\\python310\\lib\\site-packages (from ipykernel>=4.5.1->ipywidgets>=7.5.1->neuralprophet) (1.6.2)\n",
      "Requirement already satisfied: psutil in c:\\users\\oliwia\\appdata\\local\\programs\\python\\python310\\lib\\site-packages (from ipykernel>=4.5.1->ipywidgets>=7.5.1->neuralprophet) (5.9.1)\n",
      "Requirement already satisfied: matplotlib-inline>=0.1 in c:\\users\\oliwia\\appdata\\local\\programs\\python\\python310\\lib\\site-packages (from ipykernel>=4.5.1->ipywidgets>=7.5.1->neuralprophet) (0.1.3)\n",
      "Requirement already satisfied: pickleshare in c:\\users\\oliwia\\appdata\\local\\programs\\python\\python310\\lib\\site-packages (from ipython>=4.0.0->ipywidgets>=7.5.1->neuralprophet) (0.7.5)\n",
      "Requirement already satisfied: jedi>=0.16 in c:\\users\\oliwia\\appdata\\local\\programs\\python\\python310\\lib\\site-packages (from ipython>=4.0.0->ipywidgets>=7.5.1->neuralprophet) (0.18.1)\n",
      "Requirement already satisfied: prompt-toolkit!=3.0.0,!=3.0.1,<3.1.0,>=2.0.0 in c:\\users\\oliwia\\appdata\\local\\programs\\python\\python310\\lib\\site-packages (from ipython>=4.0.0->ipywidgets>=7.5.1->neuralprophet) (3.0.30)\n",
      "Requirement already satisfied: stack-data in c:\\users\\oliwia\\appdata\\local\\programs\\python\\python310\\lib\\site-packages (from ipython>=4.0.0->ipywidgets>=7.5.1->neuralprophet) (0.3.0)\n",
      "Requirement already satisfied: decorator in c:\\users\\oliwia\\appdata\\local\\programs\\python\\python310\\lib\\site-packages (from ipython>=4.0.0->ipywidgets>=7.5.1->neuralprophet) (5.1.1)\n",
      "Requirement already satisfied: setuptools>=18.5 in c:\\users\\oliwia\\appdata\\local\\programs\\python\\python310\\lib\\site-packages (from ipython>=4.0.0->ipywidgets>=7.5.1->neuralprophet) (58.1.0)\n",
      "Requirement already satisfied: backcall in c:\\users\\oliwia\\appdata\\local\\programs\\python\\python310\\lib\\site-packages (from ipython>=4.0.0->ipywidgets>=7.5.1->neuralprophet) (0.2.0)\n",
      "Requirement already satisfied: pygments>=2.4.0 in c:\\users\\oliwia\\appdata\\local\\programs\\python\\python310\\lib\\site-packages (from ipython>=4.0.0->ipywidgets>=7.5.1->neuralprophet) (2.12.0)\n",
      "Requirement already satisfied: notebook>=4.4.1 in c:\\users\\oliwia\\appdata\\local\\programs\\python\\python310\\lib\\site-packages (from widgetsnbextension~=3.6.0->ipywidgets>=7.5.1->neuralprophet) (6.4.12)\n",
      "Requirement already satisfied: parso<0.9.0,>=0.8.0 in c:\\users\\oliwia\\appdata\\local\\programs\\python\\python310\\lib\\site-packages (from jedi>=0.16->ipython>=4.0.0->ipywidgets>=7.5.1->neuralprophet) (0.8.3)\n",
      "Requirement already satisfied: entrypoints in c:\\users\\oliwia\\appdata\\local\\programs\\python\\python310\\lib\\site-packages (from jupyter-client>=6.1.12->ipykernel>=4.5.1->ipywidgets>=7.5.1->neuralprophet) (0.4)\n",
      "Requirement already satisfied: jupyter-core>=4.9.2 in c:\\users\\oliwia\\appdata\\local\\programs\\python\\python310\\lib\\site-packages (from jupyter-client>=6.1.12->ipykernel>=4.5.1->ipywidgets>=7.5.1->neuralprophet) (4.11.1)\n",
      "Requirement already satisfied: Send2Trash>=1.8.0 in c:\\users\\oliwia\\appdata\\local\\programs\\python\\python310\\lib\\site-packages (from notebook>=4.4.1->widgetsnbextension~=3.6.0->ipywidgets>=7.5.1->neuralprophet) (1.8.0)\n",
      "Requirement already satisfied: argon2-cffi in c:\\users\\oliwia\\appdata\\local\\programs\\python\\python310\\lib\\site-packages (from notebook>=4.4.1->widgetsnbextension~=3.6.0->ipywidgets>=7.5.1->neuralprophet) (21.3.0)\n",
      "Requirement already satisfied: prometheus-client in c:\\users\\oliwia\\appdata\\local\\programs\\python\\python310\\lib\\site-packages (from notebook>=4.4.1->widgetsnbextension~=3.6.0->ipywidgets>=7.5.1->neuralprophet) (0.14.1)\n",
      "Requirement already satisfied: nbformat in c:\\users\\oliwia\\appdata\\local\\programs\\python\\python310\\lib\\site-packages (from notebook>=4.4.1->widgetsnbextension~=3.6.0->ipywidgets>=7.5.1->neuralprophet) (5.4.0)\n",
      "Requirement already satisfied: nbconvert>=5 in c:\\users\\oliwia\\appdata\\local\\programs\\python\\python310\\lib\\site-packages (from notebook>=4.4.1->widgetsnbextension~=3.6.0->ipywidgets>=7.5.1->neuralprophet) (6.5.0)\n",
      "Requirement already satisfied: terminado>=0.8.3 in c:\\users\\oliwia\\appdata\\local\\programs\\python\\python310\\lib\\site-packages (from notebook>=4.4.1->widgetsnbextension~=3.6.0->ipywidgets>=7.5.1->neuralprophet) (0.15.0)\n",
      "Requirement already satisfied: jinja2 in c:\\users\\oliwia\\appdata\\local\\programs\\python\\python310\\lib\\site-packages (from notebook>=4.4.1->widgetsnbextension~=3.6.0->ipywidgets>=7.5.1->neuralprophet) (3.1.2)\n",
      "Requirement already satisfied: wcwidth in c:\\users\\oliwia\\appdata\\local\\programs\\python\\python310\\lib\\site-packages (from prompt-toolkit!=3.0.0,!=3.0.1,<3.1.0,>=2.0.0->ipython>=4.0.0->ipywidgets>=7.5.1->neuralprophet) (0.2.5)\n",
      "Requirement already satisfied: asttokens in c:\\users\\oliwia\\appdata\\local\\programs\\python\\python310\\lib\\site-packages (from stack-data->ipython>=4.0.0->ipywidgets>=7.5.1->neuralprophet) (2.0.5)\n",
      "Requirement already satisfied: pure-eval in c:\\users\\oliwia\\appdata\\local\\programs\\python\\python310\\lib\\site-packages (from stack-data->ipython>=4.0.0->ipywidgets>=7.5.1->neuralprophet) (0.2.2)\n",
      "Requirement already satisfied: executing in c:\\users\\oliwia\\appdata\\local\\programs\\python\\python310\\lib\\site-packages (from stack-data->ipython>=4.0.0->ipywidgets>=7.5.1->neuralprophet) (0.9.1)\n",
      "Requirement already satisfied: pywin32>=1.0 in c:\\users\\oliwia\\appdata\\local\\programs\\python\\python310\\lib\\site-packages (from jupyter-core>=4.9.2->jupyter-client>=6.1.12->ipykernel>=4.5.1->ipywidgets>=7.5.1->neuralprophet) (304)\n",
      "Requirement already satisfied: defusedxml in c:\\users\\oliwia\\appdata\\local\\programs\\python\\python310\\lib\\site-packages (from nbconvert>=5->notebook>=4.4.1->widgetsnbextension~=3.6.0->ipywidgets>=7.5.1->neuralprophet) (0.7.1)\n",
      "Requirement already satisfied: tinycss2 in c:\\users\\oliwia\\appdata\\local\\programs\\python\\python310\\lib\\site-packages (from nbconvert>=5->notebook>=4.4.1->widgetsnbextension~=3.6.0->ipywidgets>=7.5.1->neuralprophet) (1.1.1)\n",
      "Requirement already satisfied: beautifulsoup4 in c:\\users\\oliwia\\appdata\\local\\programs\\python\\python310\\lib\\site-packages (from nbconvert>=5->notebook>=4.4.1->widgetsnbextension~=3.6.0->ipywidgets>=7.5.1->neuralprophet) (4.11.1)\n",
      "Requirement already satisfied: bleach in c:\\users\\oliwia\\appdata\\local\\programs\\python\\python310\\lib\\site-packages (from nbconvert>=5->notebook>=4.4.1->widgetsnbextension~=3.6.0->ipywidgets>=7.5.1->neuralprophet) (5.0.1)\n",
      "Requirement already satisfied: pandocfilters>=1.4.1 in c:\\users\\oliwia\\appdata\\local\\programs\\python\\python310\\lib\\site-packages (from nbconvert>=5->notebook>=4.4.1->widgetsnbextension~=3.6.0->ipywidgets>=7.5.1->neuralprophet) (1.5.0)\n",
      "Requirement already satisfied: MarkupSafe>=2.0 in c:\\users\\oliwia\\appdata\\local\\programs\\python\\python310\\lib\\site-packages (from nbconvert>=5->notebook>=4.4.1->widgetsnbextension~=3.6.0->ipywidgets>=7.5.1->neuralprophet) (2.1.1)\n",
      "Requirement already satisfied: jupyterlab-pygments in c:\\users\\oliwia\\appdata\\local\\programs\\python\\python310\\lib\\site-packages (from nbconvert>=5->notebook>=4.4.1->widgetsnbextension~=3.6.0->ipywidgets>=7.5.1->neuralprophet) (0.2.2)\n",
      "Requirement already satisfied: mistune<2,>=0.8.1 in c:\\users\\oliwia\\appdata\\local\\programs\\python\\python310\\lib\\site-packages (from nbconvert>=5->notebook>=4.4.1->widgetsnbextension~=3.6.0->ipywidgets>=7.5.1->neuralprophet) (0.8.4)\n",
      "Requirement already satisfied: nbclient>=0.5.0 in c:\\users\\oliwia\\appdata\\local\\programs\\python\\python310\\lib\\site-packages (from nbconvert>=5->notebook>=4.4.1->widgetsnbextension~=3.6.0->ipywidgets>=7.5.1->neuralprophet) (0.6.6)\n",
      "Requirement already satisfied: fastjsonschema in c:\\users\\oliwia\\appdata\\local\\programs\\python\\python310\\lib\\site-packages (from nbformat->notebook>=4.4.1->widgetsnbextension~=3.6.0->ipywidgets>=7.5.1->neuralprophet) (2.16.1)\n",
      "Requirement already satisfied: jsonschema>=2.6 in c:\\users\\oliwia\\appdata\\local\\programs\\python\\python310\\lib\\site-packages (from nbformat->notebook>=4.4.1->widgetsnbextension~=3.6.0->ipywidgets>=7.5.1->neuralprophet) (4.9.1)\n",
      "Requirement already satisfied: pywinpty>=1.1.0 in c:\\users\\oliwia\\appdata\\local\\programs\\python\\python310\\lib\\site-packages (from terminado>=0.8.3->notebook>=4.4.1->widgetsnbextension~=3.6.0->ipywidgets>=7.5.1->neuralprophet) (2.0.6)\n",
      "Requirement already satisfied: argon2-cffi-bindings in c:\\users\\oliwia\\appdata\\local\\programs\\python\\python310\\lib\\site-packages (from argon2-cffi->notebook>=4.4.1->widgetsnbextension~=3.6.0->ipywidgets>=7.5.1->neuralprophet) (21.2.0)\n",
      "Requirement already satisfied: attrs>=17.4.0 in c:\\users\\oliwia\\appdata\\local\\programs\\python\\python310\\lib\\site-packages (from jsonschema>=2.6->nbformat->notebook>=4.4.1->widgetsnbextension~=3.6.0->ipywidgets>=7.5.1->neuralprophet) (22.1.0)\n",
      "Requirement already satisfied: pyrsistent!=0.17.0,!=0.17.1,!=0.17.2,>=0.14.0 in c:\\users\\oliwia\\appdata\\local\\programs\\python\\python310\\lib\\site-packages (from jsonschema>=2.6->nbformat->notebook>=4.4.1->widgetsnbextension~=3.6.0->ipywidgets>=7.5.1->neuralprophet) (0.18.1)\n",
      "Requirement already satisfied: cffi>=1.0.1 in c:\\users\\oliwia\\appdata\\local\\programs\\python\\python310\\lib\\site-packages (from argon2-cffi-bindings->argon2-cffi->notebook>=4.4.1->widgetsnbextension~=3.6.0->ipywidgets>=7.5.1->neuralprophet) (1.15.1)\n",
      "Requirement already satisfied: soupsieve>1.2 in c:\\users\\oliwia\\appdata\\local\\programs\\python\\python310\\lib\\site-packages (from beautifulsoup4->nbconvert>=5->notebook>=4.4.1->widgetsnbextension~=3.6.0->ipywidgets>=7.5.1->neuralprophet) (2.3.2.post1)\n",
      "Requirement already satisfied: webencodings in c:\\users\\oliwia\\appdata\\local\\programs\\python\\python310\\lib\\site-packages (from bleach->nbconvert>=5->notebook>=4.4.1->widgetsnbextension~=3.6.0->ipywidgets>=7.5.1->neuralprophet) (0.5.1)\n",
      "Requirement already satisfied: pycparser in c:\\users\\oliwia\\appdata\\local\\programs\\python\\python310\\lib\\site-packages (from cffi>=1.0.1->argon2-cffi-bindings->argon2-cffi->notebook>=4.4.1->widgetsnbextension~=3.6.0->ipywidgets>=7.5.1->neuralprophet) (2.21)\n"
     ]
    }
   ],
   "source": [
    "!pip install neuralprophet"
   ]
  },
  {
   "cell_type": "code",
   "execution_count": 3,
   "id": "60bc9593",
   "metadata": {},
   "outputs": [
    {
     "name": "stderr",
     "output_type": "stream",
     "text": [
      "ERROR: Could not find a version that satisfies the requirement pickle (from versions: none)\n",
      "ERROR: No matching distribution found for pickle\n"
     ]
    }
   ],
   "source": [
    "!pip install pickle"
   ]
  },
  {
   "cell_type": "code",
   "execution_count": 1,
   "id": "ad1e66dc",
   "metadata": {},
   "outputs": [],
   "source": [
    "import pandas as pd\n",
    "from neuralprophet import NeuralProphet\n",
    "from matplotlib import pyplot as plt\n",
    "import pickle"
   ]
  },
  {
   "cell_type": "code",
   "execution_count": 2,
   "id": "f92faa43",
   "metadata": {},
   "outputs": [
    {
     "name": "stderr",
     "output_type": "stream",
     "text": [
      "WARNING - (py.warnings._showwarnmsg) - C:\\Users\\Oliwia\\AppData\\Local\\Temp\\ipykernel_18888\\316855822.py:1: DtypeWarning: Columns (60) have mixed types. Specify dtype option on import or set low_memory=False.\n",
      "  df = pd.read_csv('meteo.csv')\n",
      "\n"
     ]
    },
    {
     "data": {
      "text/html": [
       "<div>\n",
       "<style scoped>\n",
       "    .dataframe tbody tr th:only-of-type {\n",
       "        vertical-align: middle;\n",
       "    }\n",
       "\n",
       "    .dataframe tbody tr th {\n",
       "        vertical-align: top;\n",
       "    }\n",
       "\n",
       "    .dataframe thead th {\n",
       "        text-align: right;\n",
       "    }\n",
       "</style>\n",
       "<table border=\"1\" class=\"dataframe\">\n",
       "  <thead>\n",
       "    <tr style=\"text-align: right;\">\n",
       "      <th></th>\n",
       "      <th>Unnamed: 0</th>\n",
       "      <th>index</th>\n",
       "      <th>Kod stacji</th>\n",
       "      <th>Nazwa stacji</th>\n",
       "      <th>Rok</th>\n",
       "      <th>Miesiąc</th>\n",
       "      <th>Dzień</th>\n",
       "      <th>Maksymalna temperatura dobowa</th>\n",
       "      <th>Status pomiaru TMAX</th>\n",
       "      <th>Minimalna temperatura dobowa</th>\n",
       "      <th>...</th>\n",
       "      <th>Wystąpienie błyskawicy  [0/1]</th>\n",
       "      <th>Status pomiaru DZBL</th>\n",
       "      <th>Stan gruntu [Z/R]</th>\n",
       "      <th>Izoterma dolna  [cm]</th>\n",
       "      <th>Status pomiaru IZD</th>\n",
       "      <th>Izoterma górna [cm]</th>\n",
       "      <th>Status pomiaru IZG</th>\n",
       "      <th>Aktynometria  [J/cm2]</th>\n",
       "      <th>Status pomiaru AKTN</th>\n",
       "      <th>date</th>\n",
       "    </tr>\n",
       "  </thead>\n",
       "  <tbody>\n",
       "    <tr>\n",
       "      <th>440064</th>\n",
       "      <td>440064</td>\n",
       "      <td>360</td>\n",
       "      <td>349220690</td>\n",
       "      <td>LESKO</td>\n",
       "      <td>2021</td>\n",
       "      <td>12</td>\n",
       "      <td>27</td>\n",
       "      <td>-5.2</td>\n",
       "      <td>NaN</td>\n",
       "      <td>-15.6</td>\n",
       "      <td>...</td>\n",
       "      <td>0</td>\n",
       "      <td>8.0</td>\n",
       "      <td>NaN</td>\n",
       "      <td>26</td>\n",
       "      <td>NaN</td>\n",
       "      <td>0</td>\n",
       "      <td>9.0</td>\n",
       "      <td>0</td>\n",
       "      <td>8.0</td>\n",
       "      <td>2021-12-27</td>\n",
       "    </tr>\n",
       "    <tr>\n",
       "      <th>440065</th>\n",
       "      <td>440065</td>\n",
       "      <td>361</td>\n",
       "      <td>349220690</td>\n",
       "      <td>LESKO</td>\n",
       "      <td>2021</td>\n",
       "      <td>12</td>\n",
       "      <td>28</td>\n",
       "      <td>-1.3</td>\n",
       "      <td>NaN</td>\n",
       "      <td>-8.9</td>\n",
       "      <td>...</td>\n",
       "      <td>0</td>\n",
       "      <td>8.0</td>\n",
       "      <td>NaN</td>\n",
       "      <td>28</td>\n",
       "      <td>NaN</td>\n",
       "      <td>0</td>\n",
       "      <td>9.0</td>\n",
       "      <td>0</td>\n",
       "      <td>8.0</td>\n",
       "      <td>2021-12-28</td>\n",
       "    </tr>\n",
       "    <tr>\n",
       "      <th>440066</th>\n",
       "      <td>440066</td>\n",
       "      <td>362</td>\n",
       "      <td>349220690</td>\n",
       "      <td>LESKO</td>\n",
       "      <td>2021</td>\n",
       "      <td>12</td>\n",
       "      <td>29</td>\n",
       "      <td>0.8</td>\n",
       "      <td>NaN</td>\n",
       "      <td>-5.9</td>\n",
       "      <td>...</td>\n",
       "      <td>0</td>\n",
       "      <td>8.0</td>\n",
       "      <td>NaN</td>\n",
       "      <td>29</td>\n",
       "      <td>NaN</td>\n",
       "      <td>0</td>\n",
       "      <td>9.0</td>\n",
       "      <td>0</td>\n",
       "      <td>8.0</td>\n",
       "      <td>2021-12-29</td>\n",
       "    </tr>\n",
       "    <tr>\n",
       "      <th>440067</th>\n",
       "      <td>440067</td>\n",
       "      <td>363</td>\n",
       "      <td>349220690</td>\n",
       "      <td>LESKO</td>\n",
       "      <td>2021</td>\n",
       "      <td>12</td>\n",
       "      <td>30</td>\n",
       "      <td>3.4</td>\n",
       "      <td>NaN</td>\n",
       "      <td>0.0</td>\n",
       "      <td>...</td>\n",
       "      <td>0</td>\n",
       "      <td>8.0</td>\n",
       "      <td>NaN</td>\n",
       "      <td>28</td>\n",
       "      <td>NaN</td>\n",
       "      <td>4</td>\n",
       "      <td>NaN</td>\n",
       "      <td>0</td>\n",
       "      <td>8.0</td>\n",
       "      <td>2021-12-30</td>\n",
       "    </tr>\n",
       "    <tr>\n",
       "      <th>440068</th>\n",
       "      <td>440068</td>\n",
       "      <td>364</td>\n",
       "      <td>349220690</td>\n",
       "      <td>LESKO</td>\n",
       "      <td>2021</td>\n",
       "      <td>12</td>\n",
       "      <td>31</td>\n",
       "      <td>5.7</td>\n",
       "      <td>NaN</td>\n",
       "      <td>1.4</td>\n",
       "      <td>...</td>\n",
       "      <td>0</td>\n",
       "      <td>8.0</td>\n",
       "      <td>NaN</td>\n",
       "      <td>29</td>\n",
       "      <td>NaN</td>\n",
       "      <td>4</td>\n",
       "      <td>NaN</td>\n",
       "      <td>0</td>\n",
       "      <td>8.0</td>\n",
       "      <td>2021-12-31</td>\n",
       "    </tr>\n",
       "  </tbody>\n",
       "</table>\n",
       "<p>5 rows × 68 columns</p>\n",
       "</div>"
      ],
      "text/plain": [
       "        Unnamed: 0  index  Kod stacji Nazwa stacji   Rok  Miesiąc  Dzień  \\\n",
       "440064      440064    360   349220690        LESKO  2021       12     27   \n",
       "440065      440065    361   349220690        LESKO  2021       12     28   \n",
       "440066      440066    362   349220690        LESKO  2021       12     29   \n",
       "440067      440067    363   349220690        LESKO  2021       12     30   \n",
       "440068      440068    364   349220690        LESKO  2021       12     31   \n",
       "\n",
       "        Maksymalna temperatura dobowa  Status pomiaru TMAX  \\\n",
       "440064                           -5.2                  NaN   \n",
       "440065                           -1.3                  NaN   \n",
       "440066                            0.8                  NaN   \n",
       "440067                            3.4                  NaN   \n",
       "440068                            5.7                  NaN   \n",
       "\n",
       "        Minimalna temperatura dobowa  ...  Wystąpienie błyskawicy  [0/1]  \\\n",
       "440064                         -15.6  ...                              0   \n",
       "440065                          -8.9  ...                              0   \n",
       "440066                          -5.9  ...                              0   \n",
       "440067                           0.0  ...                              0   \n",
       "440068                           1.4  ...                              0   \n",
       "\n",
       "        Status pomiaru DZBL  Stan gruntu [Z/R]  Izoterma dolna  [cm]  \\\n",
       "440064                  8.0                NaN                    26   \n",
       "440065                  8.0                NaN                    28   \n",
       "440066                  8.0                NaN                    29   \n",
       "440067                  8.0                NaN                    28   \n",
       "440068                  8.0                NaN                    29   \n",
       "\n",
       "        Status pomiaru IZD  Izoterma górna [cm]  Status pomiaru IZG  \\\n",
       "440064                 NaN                    0                 9.0   \n",
       "440065                 NaN                    0                 9.0   \n",
       "440066                 NaN                    0                 9.0   \n",
       "440067                 NaN                    4                 NaN   \n",
       "440068                 NaN                    4                 NaN   \n",
       "\n",
       "       Aktynometria  [J/cm2]  Status pomiaru AKTN        date  \n",
       "440064                     0                  8.0  2021-12-27  \n",
       "440065                     0                  8.0  2021-12-28  \n",
       "440066                     0                  8.0  2021-12-29  \n",
       "440067                     0                  8.0  2021-12-30  \n",
       "440068                     0                  8.0  2021-12-31  \n",
       "\n",
       "[5 rows x 68 columns]"
      ]
     },
     "execution_count": 2,
     "metadata": {},
     "output_type": "execute_result"
    }
   ],
   "source": [
    "df = pd.read_csv('meteo.csv')\n",
    "df.tail()"
   ]
  },
  {
   "cell_type": "code",
   "execution_count": 3,
   "id": "9fc36326",
   "metadata": {},
   "outputs": [
    {
     "data": {
      "text/plain": [
       "Index(['Unnamed: 0', 'index', 'Kod stacji', 'Nazwa stacji', 'Rok', 'Miesiąc',\n",
       "       'Dzień', 'Maksymalna temperatura dobowa', 'Status pomiaru TMAX',\n",
       "       'Minimalna temperatura dobowa', 'Status pomiaru TMIN',\n",
       "       'Średnia temperatura dobowa', 'Status pomiaru STD',\n",
       "       'Temperatura minimalna przy gruncie', 'Status pomiaru TMNG',\n",
       "       'Suma dobowa opadu [mm]', 'Status pomiaru SMDB', 'Rodzaj opadu [S/W/ ]',\n",
       "       'Wysokość pokrywy śnieżnej [cm]', 'Status pomiaru PKSN',\n",
       "       'Równoważnik wodny śniegu  [mm/cm]', 'Status pomiaru RWSN',\n",
       "       'Usłonecznienie [godziny]', 'Status pomiaru USL',\n",
       "       'Czas trwania opadu deszczu [godziny]', 'Status pomiaru DESZ',\n",
       "       'Czas trwania opadu śniegu [godziny]', 'Status pomiaru SNEG',\n",
       "       'Czas trwania opadu deszczu ze śniegiem [godziny]',\n",
       "       'Status pomiaru DISN', 'Czas trwania gradu [godziny]',\n",
       "       'Status pomiaru GRAD', 'Czas trwania mgły [godziny]',\n",
       "       'Status pomiaru MGLA', 'Czas trwania zamglenia  [godziny]',\n",
       "       'Status pomiaru ZMGL', 'Czas trwania sadzi [godziny]',\n",
       "       'Status pomiaru SADZ', 'Czas trwania gołoledzi [godziny]',\n",
       "       'Status pomiaru GOLO',\n",
       "       'Czas trwania zamieci śnieżnej niskiej [godziny]',\n",
       "       'Status pomiaru ZMNI',\n",
       "       'Czas trwania zamieci śnieżnej wysokiej [godziny]',\n",
       "       'Status pomiaru ZMWS', 'Czas trwania zmętnienia [godziny]',\n",
       "       'Status pomiaru ZMET', 'Czas trwania wiatru >=10m/s [godziny]',\n",
       "       'Status pomiaru FF10', 'Czas trwania wiatru >15m/s [godziny]',\n",
       "       'Status pomiaru FF15', 'Czas trwania burzy  [godziny]',\n",
       "       'Status pomiaru BRZA', 'Czas trwania rosy  [godziny]',\n",
       "       'Status pomiaru ROSA', 'Czas trwania szronu [godziny]',\n",
       "       'Status pomiaru SZRO', 'Wystąpienie pokrywy śnieżnej  [0/1]',\n",
       "       'Status pomiaru DZPS', 'Wystąpienie błyskawicy  [0/1]',\n",
       "       'Status pomiaru DZBL', 'Stan gruntu [Z/R]', 'Izoterma dolna  [cm]',\n",
       "       'Status pomiaru IZD', 'Izoterma górna [cm]', 'Status pomiaru IZG',\n",
       "       'Aktynometria  [J/cm2]', 'Status pomiaru AKTN', 'date'],\n",
       "      dtype='object')"
      ]
     },
     "execution_count": 3,
     "metadata": {},
     "output_type": "execute_result"
    }
   ],
   "source": [
    "df.columns"
   ]
  },
  {
   "cell_type": "code",
   "execution_count": 48,
   "id": "e6762c94",
   "metadata": {},
   "outputs": [
    {
     "data": {
      "text/plain": [
       "array(['KOŁOBRZEG', 'KOSZALIN', 'USTKA', 'ŁEBA', 'LĘBORK', 'HEL',\n",
       "       'GDAŃSK-PORT PÓŁNOCNY', 'ELBLĄG-MILEJEWO', 'KĘTRZYN', 'SUWAŁKI',\n",
       "       'ŚWINOUJŚCIE', 'SZCZECIN', 'RESKO-SMÓLSKO', 'PIŁA', 'CHOJNICE',\n",
       "       'TORUŃ', 'MŁAWA', 'OLSZTYN', 'MIKOŁAJKI', 'BIAŁYSTOK',\n",
       "       'GORZÓW WIELKOPOLSKI', 'SŁUBICE', 'POZNAŃ', 'KOŁO', 'PŁOCK',\n",
       "       'WARSZAWA', 'SIEDLCE', 'TERESPOL', 'ZIELONA GÓRA', 'LEGNICA',\n",
       "       'LESZNO', 'WROCŁAW', 'KALISZ', 'WIELUŃ', 'ŁÓDŹ', 'SULEJÓW',\n",
       "       'KOZIENICE', 'LUBLIN-RADAWIEC', 'WŁODAWA', 'JELENIA GÓRA',\n",
       "       'ŚNIEŻKA', 'KŁODZKO', 'OPOLE', 'RACIBÓRZ', 'CZĘSTOCHOWA',\n",
       "       'KATOWICE', 'KRAKÓW-BALICE', 'KIELCE-SUKÓW', 'TARNÓW',\n",
       "       'RZESZÓW-JASIONKA', 'SANDOMIERZ', 'BIELSKO-BIAŁA', 'ZAKOPANE',\n",
       "       'KASPROWY WIERCH', 'NOWY SĄCZ', 'KROSNO', 'LESKO', 'ZGORZELEC',\n",
       "       'GDAŃSK-ŚWIBNO', 'ZAMOŚĆ', 'KOŁOBRZEG-DŹWIRZYNO', 'POZNAŃ-ŁAWICA',\n",
       "       'WARSZAWA-OKĘCIE', 'WROCŁAW-STRACHOWICE', 'ŁÓDŹ-LUBLINEK',\n",
       "       'KATOWICE-MUCHOWIEC', 'HALA GĄSIENICOWA'], dtype=object)"
      ]
     },
     "execution_count": 48,
     "metadata": {},
     "output_type": "execute_result"
    }
   ],
   "source": [
    "df['Nazwa stacji'].unique()"
   ]
  },
  {
   "cell_type": "code",
   "execution_count": 5,
   "id": "ae159d4c",
   "metadata": {},
   "outputs": [
    {
     "data": {
      "text/plain": [
       "Unnamed: 0                 int64\n",
       "index                      int64\n",
       "Kod stacji                 int64\n",
       "Nazwa stacji              object\n",
       "Rok                        int64\n",
       "                          ...   \n",
       "Izoterma górna [cm]        int64\n",
       "Status pomiaru IZG       float64\n",
       "Aktynometria  [J/cm2]      int64\n",
       "Status pomiaru AKTN      float64\n",
       "date                      object\n",
       "Length: 68, dtype: object"
      ]
     },
     "execution_count": 5,
     "metadata": {},
     "output_type": "execute_result"
    }
   ],
   "source": [
    "df.dtypes"
   ]
  },
  {
   "cell_type": "code",
   "execution_count": 80,
   "id": "44b16eaa",
   "metadata": {},
   "outputs": [
    {
     "name": "stderr",
     "output_type": "stream",
     "text": [
      "WARNING - (py.warnings._showwarnmsg) - C:\\Users\\Oliwia\\AppData\\Local\\Temp\\ipykernel_18888\\815325595.py:2: SettingWithCopyWarning: \n",
      "A value is trying to be set on a copy of a slice from a DataFrame.\n",
      "Try using .loc[row_indexer,col_indexer] = value instead\n",
      "\n",
      "See the caveats in the documentation: https://pandas.pydata.org/pandas-docs/stable/user_guide/indexing.html#returning-a-view-versus-a-copy\n",
      "  torun['date'] = pd.to_datetime(torun['date'])\n",
      "\n"
     ]
    },
    {
     "data": {
      "text/html": [
       "<div>\n",
       "<style scoped>\n",
       "    .dataframe tbody tr th:only-of-type {\n",
       "        vertical-align: middle;\n",
       "    }\n",
       "\n",
       "    .dataframe tbody tr th {\n",
       "        vertical-align: top;\n",
       "    }\n",
       "\n",
       "    .dataframe thead th {\n",
       "        text-align: right;\n",
       "    }\n",
       "</style>\n",
       "<table border=\"1\" class=\"dataframe\">\n",
       "  <thead>\n",
       "    <tr style=\"text-align: right;\">\n",
       "      <th></th>\n",
       "      <th>Unnamed: 0</th>\n",
       "      <th>index</th>\n",
       "      <th>Kod stacji</th>\n",
       "      <th>Nazwa stacji</th>\n",
       "      <th>Rok</th>\n",
       "      <th>Miesiąc</th>\n",
       "      <th>Dzień</th>\n",
       "      <th>Maksymalna temperatura dobowa</th>\n",
       "      <th>Status pomiaru TMAX</th>\n",
       "      <th>Minimalna temperatura dobowa</th>\n",
       "      <th>...</th>\n",
       "      <th>Wystąpienie błyskawicy  [0/1]</th>\n",
       "      <th>Status pomiaru DZBL</th>\n",
       "      <th>Stan gruntu [Z/R]</th>\n",
       "      <th>Izoterma dolna  [cm]</th>\n",
       "      <th>Status pomiaru IZD</th>\n",
       "      <th>Izoterma górna [cm]</th>\n",
       "      <th>Status pomiaru IZG</th>\n",
       "      <th>Aktynometria  [J/cm2]</th>\n",
       "      <th>Status pomiaru AKTN</th>\n",
       "      <th>date</th>\n",
       "    </tr>\n",
       "  </thead>\n",
       "  <tbody>\n",
       "    <tr>\n",
       "      <th>403158</th>\n",
       "      <td>403158</td>\n",
       "      <td>361</td>\n",
       "      <td>353180250</td>\n",
       "      <td>TORUŃ</td>\n",
       "      <td>2020</td>\n",
       "      <td>12</td>\n",
       "      <td>27</td>\n",
       "      <td>1.3</td>\n",
       "      <td>NaN</td>\n",
       "      <td>-1.5</td>\n",
       "      <td>...</td>\n",
       "      <td>0</td>\n",
       "      <td>NaN</td>\n",
       "      <td>Z</td>\n",
       "      <td>6</td>\n",
       "      <td>NaN</td>\n",
       "      <td>0</td>\n",
       "      <td>9.0</td>\n",
       "      <td>0</td>\n",
       "      <td>8.0</td>\n",
       "      <td>2020-12-27</td>\n",
       "    </tr>\n",
       "    <tr>\n",
       "      <th>403159</th>\n",
       "      <td>403159</td>\n",
       "      <td>362</td>\n",
       "      <td>353180250</td>\n",
       "      <td>TORUŃ</td>\n",
       "      <td>2020</td>\n",
       "      <td>12</td>\n",
       "      <td>28</td>\n",
       "      <td>5.8</td>\n",
       "      <td>NaN</td>\n",
       "      <td>-0.2</td>\n",
       "      <td>...</td>\n",
       "      <td>0</td>\n",
       "      <td>NaN</td>\n",
       "      <td>Z</td>\n",
       "      <td>5</td>\n",
       "      <td>NaN</td>\n",
       "      <td>0</td>\n",
       "      <td>9.0</td>\n",
       "      <td>0</td>\n",
       "      <td>8.0</td>\n",
       "      <td>2020-12-28</td>\n",
       "    </tr>\n",
       "    <tr>\n",
       "      <th>403160</th>\n",
       "      <td>403160</td>\n",
       "      <td>363</td>\n",
       "      <td>353180250</td>\n",
       "      <td>TORUŃ</td>\n",
       "      <td>2020</td>\n",
       "      <td>12</td>\n",
       "      <td>29</td>\n",
       "      <td>5.2</td>\n",
       "      <td>NaN</td>\n",
       "      <td>2.4</td>\n",
       "      <td>...</td>\n",
       "      <td>0</td>\n",
       "      <td>NaN</td>\n",
       "      <td>R</td>\n",
       "      <td>0</td>\n",
       "      <td>9.0</td>\n",
       "      <td>0</td>\n",
       "      <td>9.0</td>\n",
       "      <td>0</td>\n",
       "      <td>8.0</td>\n",
       "      <td>2020-12-29</td>\n",
       "    </tr>\n",
       "    <tr>\n",
       "      <th>403161</th>\n",
       "      <td>403161</td>\n",
       "      <td>364</td>\n",
       "      <td>353180250</td>\n",
       "      <td>TORUŃ</td>\n",
       "      <td>2020</td>\n",
       "      <td>12</td>\n",
       "      <td>30</td>\n",
       "      <td>4.9</td>\n",
       "      <td>NaN</td>\n",
       "      <td>-1.7</td>\n",
       "      <td>...</td>\n",
       "      <td>0</td>\n",
       "      <td>NaN</td>\n",
       "      <td>Z</td>\n",
       "      <td>1</td>\n",
       "      <td>NaN</td>\n",
       "      <td>0</td>\n",
       "      <td>9.0</td>\n",
       "      <td>0</td>\n",
       "      <td>8.0</td>\n",
       "      <td>2020-12-30</td>\n",
       "    </tr>\n",
       "    <tr>\n",
       "      <th>403162</th>\n",
       "      <td>403162</td>\n",
       "      <td>365</td>\n",
       "      <td>353180250</td>\n",
       "      <td>TORUŃ</td>\n",
       "      <td>2020</td>\n",
       "      <td>12</td>\n",
       "      <td>31</td>\n",
       "      <td>1.6</td>\n",
       "      <td>NaN</td>\n",
       "      <td>-5.0</td>\n",
       "      <td>...</td>\n",
       "      <td>0</td>\n",
       "      <td>NaN</td>\n",
       "      <td>Z</td>\n",
       "      <td>9</td>\n",
       "      <td>NaN</td>\n",
       "      <td>0</td>\n",
       "      <td>9.0</td>\n",
       "      <td>0</td>\n",
       "      <td>8.0</td>\n",
       "      <td>2020-12-31</td>\n",
       "    </tr>\n",
       "  </tbody>\n",
       "</table>\n",
       "<p>5 rows × 68 columns</p>\n",
       "</div>"
      ],
      "text/plain": [
       "        Unnamed: 0  index  Kod stacji Nazwa stacji   Rok  Miesiąc  Dzień  \\\n",
       "403158      403158    361   353180250        TORUŃ  2020       12     27   \n",
       "403159      403159    362   353180250        TORUŃ  2020       12     28   \n",
       "403160      403160    363   353180250        TORUŃ  2020       12     29   \n",
       "403161      403161    364   353180250        TORUŃ  2020       12     30   \n",
       "403162      403162    365   353180250        TORUŃ  2020       12     31   \n",
       "\n",
       "        Maksymalna temperatura dobowa  Status pomiaru TMAX  \\\n",
       "403158                            1.3                  NaN   \n",
       "403159                            5.8                  NaN   \n",
       "403160                            5.2                  NaN   \n",
       "403161                            4.9                  NaN   \n",
       "403162                            1.6                  NaN   \n",
       "\n",
       "        Minimalna temperatura dobowa  ...  Wystąpienie błyskawicy  [0/1]  \\\n",
       "403158                          -1.5  ...                              0   \n",
       "403159                          -0.2  ...                              0   \n",
       "403160                           2.4  ...                              0   \n",
       "403161                          -1.7  ...                              0   \n",
       "403162                          -5.0  ...                              0   \n",
       "\n",
       "        Status pomiaru DZBL  Stan gruntu [Z/R]  Izoterma dolna  [cm]  \\\n",
       "403158                  NaN                  Z                     6   \n",
       "403159                  NaN                  Z                     5   \n",
       "403160                  NaN                  R                     0   \n",
       "403161                  NaN                  Z                     1   \n",
       "403162                  NaN                  Z                     9   \n",
       "\n",
       "        Status pomiaru IZD  Izoterma górna [cm]  Status pomiaru IZG  \\\n",
       "403158                 NaN                    0                 9.0   \n",
       "403159                 NaN                    0                 9.0   \n",
       "403160                 9.0                    0                 9.0   \n",
       "403161                 NaN                    0                 9.0   \n",
       "403162                 NaN                    0                 9.0   \n",
       "\n",
       "       Aktynometria  [J/cm2]  Status pomiaru AKTN       date  \n",
       "403158                     0                  8.0 2020-12-27  \n",
       "403159                     0                  8.0 2020-12-28  \n",
       "403160                     0                  8.0 2020-12-29  \n",
       "403161                     0                  8.0 2020-12-30  \n",
       "403162                     0                  8.0 2020-12-31  \n",
       "\n",
       "[5 rows x 68 columns]"
      ]
     },
     "execution_count": 80,
     "metadata": {},
     "output_type": "execute_result"
    }
   ],
   "source": [
    "torun = df[(df[\"Nazwa stacji\"]==\"TORUŃ\") & (df[\"Rok\"] >= 2017 ) & (df[\"Rok\"] <= 2020 )]\n",
    "torun['date'] = pd.to_datetime(torun['date'])\n",
    "torun.tail()"
   ]
  },
  {
   "cell_type": "code",
   "execution_count": 81,
   "id": "8605cff3",
   "metadata": {},
   "outputs": [
    {
     "data": {
      "text/plain": [
       "Unnamed: 0                        int64\n",
       "index                             int64\n",
       "Kod stacji                        int64\n",
       "Nazwa stacji                     object\n",
       "Rok                               int64\n",
       "                              ...      \n",
       "Izoterma górna [cm]               int64\n",
       "Status pomiaru IZG              float64\n",
       "Aktynometria  [J/cm2]             int64\n",
       "Status pomiaru AKTN             float64\n",
       "date                     datetime64[ns]\n",
       "Length: 68, dtype: object"
      ]
     },
     "execution_count": 81,
     "metadata": {},
     "output_type": "execute_result"
    }
   ],
   "source": [
    "torun.dtypes"
   ]
  },
  {
   "cell_type": "code",
   "execution_count": 88,
   "id": "8ed27c09",
   "metadata": {},
   "outputs": [
    {
     "data": {
      "image/png": "[encoded data removed]",
      "text/plain": [
       "<Figure size 432x288 with 1 Axes>"
      ]
     },
     "metadata": {
      "needs_background": "light"
     },
     "output_type": "display_data"
    }
   ],
   "source": [
    "plt.plot(torun['date'],torun['Średnia temperatura dobowa'])\n",
    "plt.show()"
   ]
  },
  {
   "cell_type": "code",
   "execution_count": 89,
   "id": "c823620b",
   "metadata": {},
   "outputs": [
    {
     "name": "stderr",
     "output_type": "stream",
     "text": [
      "WARNING - (py.warnings._showwarnmsg) - C:\\Users\\Oliwia\\AppData\\Local\\Temp\\ipykernel_18888\\1756661320.py:3: SettingWithCopyWarning: \n",
      "A value is trying to be set on a copy of a slice from a DataFrame\n",
      "\n",
      "See the caveats in the documentation: https://pandas.pydata.org/pandas-docs/stable/user_guide/indexing.html#returning-a-view-versus-a-copy\n",
      "  dane.dropna(inplace=True) #usuniecie brakujacych danych\n",
      "\n"
     ]
    },
    {
     "data": {
      "text/html": [
       "<div>\n",
       "<style scoped>\n",
       "    .dataframe tbody tr th:only-of-type {\n",
       "        vertical-align: middle;\n",
       "    }\n",
       "\n",
       "    .dataframe tbody tr th {\n",
       "        vertical-align: top;\n",
       "    }\n",
       "\n",
       "    .dataframe thead th {\n",
       "        text-align: right;\n",
       "    }\n",
       "</style>\n",
       "<table border=\"1\" class=\"dataframe\">\n",
       "  <thead>\n",
       "    <tr style=\"text-align: right;\">\n",
       "      <th></th>\n",
       "      <th>ds</th>\n",
       "      <th>y</th>\n",
       "    </tr>\n",
       "  </thead>\n",
       "  <tbody>\n",
       "    <tr>\n",
       "      <th>403158</th>\n",
       "      <td>2020-12-27</td>\n",
       "      <td>1.3</td>\n",
       "    </tr>\n",
       "    <tr>\n",
       "      <th>403159</th>\n",
       "      <td>2020-12-28</td>\n",
       "      <td>5.8</td>\n",
       "    </tr>\n",
       "    <tr>\n",
       "      <th>403160</th>\n",
       "      <td>2020-12-29</td>\n",
       "      <td>5.2</td>\n",
       "    </tr>\n",
       "    <tr>\n",
       "      <th>403161</th>\n",
       "      <td>2020-12-30</td>\n",
       "      <td>4.9</td>\n",
       "    </tr>\n",
       "    <tr>\n",
       "      <th>403162</th>\n",
       "      <td>2020-12-31</td>\n",
       "      <td>1.6</td>\n",
       "    </tr>\n",
       "  </tbody>\n",
       "</table>\n",
       "</div>"
      ],
      "text/plain": [
       "               ds    y\n",
       "403158 2020-12-27  1.3\n",
       "403159 2020-12-28  5.8\n",
       "403160 2020-12-29  5.2\n",
       "403161 2020-12-30  4.9\n",
       "403162 2020-12-31  1.6"
      ]
     },
     "execution_count": 89,
     "metadata": {},
     "output_type": "execute_result"
    }
   ],
   "source": [
    "#wyroznienie tylko potrzebnych kolumn\n",
    "dane = torun[['date','Maksymalna temperatura dobowa']] #wybor kolumn ktore nas interesuja\n",
    "dane.dropna(inplace=True) #usuniecie brakujacych danych\n",
    "dane.columns=['ds','y'] #zmienione nazwy kolumn, poniewaz NeuralProphet wymaga takiego nazewnictwa\n",
    "dane.tail()"
   ]
  },
  {
   "cell_type": "code",
   "execution_count": 90,
   "id": "caaca367",
   "metadata": {
    "scrolled": true
   },
   "outputs": [
    {
     "name": "stderr",
     "output_type": "stream",
     "text": [
      "INFO - (NP.df_utils._infer_frequency) - Major frequency D corresponds to 99.932% of the data.\n",
      "INFO - (NP.df_utils._infer_frequency) - Defined frequency is equal to major frequency - D\n",
      "INFO - (NP.config.init_data_params) - Setting normalization to global as only one dataframe provided for training.\n",
      "INFO - (NP.utils.set_auto_seasonalities) - Disabling daily seasonality. Run NeuralProphet with daily_seasonality=True to override this.\n",
      "INFO - (NP.config.set_auto_batch_epoch) - Auto-set batch_size to 32\n",
      "INFO - (NP.config.set_auto_batch_epoch) - Auto-set epochs to 173\n"
     ]
    },
    {
     "data": {
      "application/vnd.jupyter.widget-view+json": {
       "model_id": "27f5d0e1af7f40fa900d6d2fab614f1e",
       "version_major": 2,
       "version_minor": 0
      },
      "text/plain": [
       "  0%|          | 0/129 [00:00<?, ?it/s]"
      ]
     },
     "metadata": {},
     "output_type": "display_data"
    },
    {
     "name": "stderr",
     "output_type": "stream",
     "text": [
      "INFO - (NP.utils_torch.lr_range_test) - lr-range-test results: steep: 1.31E-01, min: 1.26E+00\n"
     ]
    },
    {
     "data": {
      "application/vnd.jupyter.widget-view+json": {
       "model_id": "047c6954bff640a4bfe8137b80dd5f65",
       "version_major": 2,
       "version_minor": 0
      },
      "text/plain": [
       "  0%|          | 0/129 [00:00<?, ?it/s]"
      ]
     },
     "metadata": {},
     "output_type": "display_data"
    },
    {
     "name": "stderr",
     "output_type": "stream",
     "text": [
      "INFO - (NP.utils_torch.lr_range_test) - lr-range-test results: steep: 1.31E-01, min: 1.26E+00\n",
      "INFO - (NP.forecaster._init_train_loader) - lr-range-test selected learning rate: 1.20E-01\n",
      "Epoch[173/173]: 100%|█| 173/173 [00:18<00:00,  9.31it/s, SmoothL1Loss=0.00554, MAE=3.12, RMSE=3.\n"
     ]
    }
   ],
   "source": [
    "#stworzenie niewytrenowanej instancji NeuralProphet\n",
    "model = NeuralProphet()\n",
    "#proces uczenia, przesylamy nasze dane\n",
    "metrics = model.fit(dane,freq=\"D\")"
   ]
  },
  {
   "cell_type": "code",
   "execution_count": 94,
   "id": "38a00cc3",
   "metadata": {
    "scrolled": false
   },
   "outputs": [
    {
     "name": "stderr",
     "output_type": "stream",
     "text": [
      "INFO - (NP.df_utils._infer_frequency) - Major frequency D corresponds to 99.932% of the data.\n",
      "INFO - (NP.df_utils._infer_frequency) - Defined frequency is equal to major frequency - D\n",
      "INFO - (NP.df_utils._infer_frequency) - Major frequency D corresponds to 99.945% of the data.\n",
      "INFO - (NP.df_utils._infer_frequency) - Defined frequency is equal to major frequency - D\n",
      "INFO - (NP.df_utils._infer_frequency) - Major frequency D corresponds to 99.945% of the data.\n",
      "INFO - (NP.df_utils._infer_frequency) - Defined frequency is equal to major frequency - D\n",
      "WARNING - (py.warnings._showwarnmsg) - C:\\Users\\Oliwia\\AppData\\Local\\Programs\\Python\\Python310\\lib\\site-packages\\neuralprophet\\forecaster.py:1406: FutureWarning: The frame.append method is deprecated and will be removed from pandas in a future version. Use pandas.concat instead.\n",
      "  df = df.append(df_end_to_append)\n",
      "\n"
     ]
    },
    {
     "data": {
      "image/png": "[encoded data removed]",
      "text/plain": [
       "<Figure size 720x648 with 3 Axes>"
      ]
     },
     "metadata": {},
     "output_type": "display_data"
    }
   ],
   "source": [
    "future = model.make_future_dataframe(df=dane, periods=1825) #1825 dni czyli 5 lat\n",
    "forecast = model.predict(df=future)\n",
    "components = model.plot_components(forecast)"
   ]
  },
  {
   "cell_type": "code",
   "execution_count": 95,
   "id": "f40db98e",
   "metadata": {},
   "outputs": [
    {
     "data": {
      "text/html": [
       "<div>\n",
       "<style scoped>\n",
       "    .dataframe tbody tr th:only-of-type {\n",
       "        vertical-align: middle;\n",
       "    }\n",
       "\n",
       "    .dataframe tbody tr th {\n",
       "        vertical-align: top;\n",
       "    }\n",
       "\n",
       "    .dataframe thead th {\n",
       "        text-align: right;\n",
       "    }\n",
       "</style>\n",
       "<table border=\"1\" class=\"dataframe\">\n",
       "  <thead>\n",
       "    <tr style=\"text-align: right;\">\n",
       "      <th></th>\n",
       "      <th>ds</th>\n",
       "      <th>y</th>\n",
       "      <th>yhat1</th>\n",
       "      <th>residual1</th>\n",
       "      <th>trend</th>\n",
       "      <th>season_yearly</th>\n",
       "      <th>season_weekly</th>\n",
       "    </tr>\n",
       "  </thead>\n",
       "  <tbody>\n",
       "    <tr>\n",
       "      <th>1820</th>\n",
       "      <td>2025-12-26</td>\n",
       "      <td>None</td>\n",
       "      <td>6.754104</td>\n",
       "      <td>NaN</td>\n",
       "      <td>16.743031</td>\n",
       "      <td>-10.016134</td>\n",
       "      <td>0.027207</td>\n",
       "    </tr>\n",
       "    <tr>\n",
       "      <th>1821</th>\n",
       "      <td>2025-12-27</td>\n",
       "      <td>None</td>\n",
       "      <td>6.606837</td>\n",
       "      <td>NaN</td>\n",
       "      <td>16.744188</td>\n",
       "      <td>-10.069467</td>\n",
       "      <td>-0.067884</td>\n",
       "    </tr>\n",
       "    <tr>\n",
       "      <th>1822</th>\n",
       "      <td>2025-12-28</td>\n",
       "      <td>None</td>\n",
       "      <td>6.901947</td>\n",
       "      <td>NaN</td>\n",
       "      <td>16.745342</td>\n",
       "      <td>-10.126699</td>\n",
       "      <td>0.283305</td>\n",
       "    </tr>\n",
       "    <tr>\n",
       "      <th>1823</th>\n",
       "      <td>2025-12-29</td>\n",
       "      <td>None</td>\n",
       "      <td>6.618351</td>\n",
       "      <td>NaN</td>\n",
       "      <td>16.746498</td>\n",
       "      <td>-10.187464</td>\n",
       "      <td>0.059316</td>\n",
       "    </tr>\n",
       "    <tr>\n",
       "      <th>1824</th>\n",
       "      <td>2025-12-30</td>\n",
       "      <td>None</td>\n",
       "      <td>6.290330</td>\n",
       "      <td>NaN</td>\n",
       "      <td>16.747654</td>\n",
       "      <td>-10.251322</td>\n",
       "      <td>-0.206003</td>\n",
       "    </tr>\n",
       "  </tbody>\n",
       "</table>\n",
       "</div>"
      ],
      "text/plain": [
       "             ds     y     yhat1 residual1      trend  season_yearly  \\\n",
       "1820 2025-12-26  None  6.754104       NaN  16.743031     -10.016134   \n",
       "1821 2025-12-27  None  6.606837       NaN  16.744188     -10.069467   \n",
       "1822 2025-12-28  None  6.901947       NaN  16.745342     -10.126699   \n",
       "1823 2025-12-29  None  6.618351       NaN  16.746498     -10.187464   \n",
       "1824 2025-12-30  None  6.290330       NaN  16.747654     -10.251322   \n",
       "\n",
       "      season_weekly  \n",
       "1820       0.027207  \n",
       "1821      -0.067884  \n",
       "1822       0.283305  \n",
       "1823       0.059316  \n",
       "1824      -0.206003  "
      ]
     },
     "execution_count": 95,
     "metadata": {},
     "output_type": "execute_result"
    }
   ],
   "source": [
    "forecast.tail()\n"
   ]
  },
  {
   "cell_type": "code",
   "execution_count": 96,
   "id": "3e85f89d",
   "metadata": {},
   "outputs": [
    {
     "data": {
      "image/png": "[encoded data removed]",
      "text/plain": [
       "<Figure size 720x432 with 1 Axes>"
      ]
     },
     "metadata": {},
     "output_type": "display_data"
    }
   ],
   "source": [
    "fig_forecast = model.plot(forecast)"
   ]
  },
  {
   "cell_type": "code",
   "execution_count": null,
   "id": "13cd7ef3",
   "metadata": {},
   "outputs": [],
   "source": []
  },
  {
   "cell_type": "code",
   "execution_count": null,
   "id": "f45e3206",
   "metadata": {},
   "outputs": [],
   "source": []
  },
  {
   "cell_type": "code",
   "execution_count": null,
   "id": "6bf1e479",
   "metadata": {},
   "outputs": [],
   "source": []
  },
  {
   "cell_type": "code",
   "execution_count": null,
   "id": "113bf228",
   "metadata": {},
   "outputs": [],
   "source": []
  }
 ],
 "metadata": {
  "kernelspec": {
   "display_name": "Python 3 (ipykernel)",
   "language": "python",
   "name": "python3"
  },
  "language_info": {
   "codemirror_mode": {
    "name": "ipython",
    "version": 3
   },
   "file_extension": ".py",
   "mimetype": "text/x-python",
   "name": "python",
   "nbconvert_exporter": "python",
   "pygments_lexer": "ipython3",
   "version": "3.10.4"
  }
 },
 "nbformat": 4,
 "nbformat_minor": 5
}
